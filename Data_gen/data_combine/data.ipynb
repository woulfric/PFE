{
 "cells": [
  {
   "cell_type": "code",
   "execution_count": 2,
   "metadata": {},
   "outputs": [
    {
     "name": "stdout",
     "output_type": "stream",
     "text": [
      "   timestamp     pitch       yaw      roll        lat       lon    alt  \\\n",
      "0          0 -0.023417 -0.015351  0.007589  36.715606  3.184630  17.48   \n",
      "1          1 -0.067764 -0.004516  0.067917  36.715608  3.184633  17.53   \n",
      "2          2 -0.186929  1.432011 -0.086370  36.715621  3.184656  17.48   \n",
      "3          3 -0.168789  0.927885  0.022833  36.715654  3.184716  17.52   \n",
      "4          4  0.028754  0.939464 -0.019268  36.715687  3.184773  17.53   \n",
      "\n",
      "   velocity_x  velocity_y  velocity_z  battery  heading  airspeed  groundspeed  \n",
      "0       -0.01        0.03        0.00       96      359  0.034565     0.033989  \n",
      "1        0.37        0.58        0.00       95      359  0.698404     0.698399  \n",
      "2        1.61        2.35       -0.01       95       82  2.860141     2.860102  \n",
      "3        2.41        3.43       -0.02       95       53  4.199267     4.199178  \n",
      "4        2.15        3.04       -0.01       94       53  3.734850     3.734833  \n"
     ]
    }
   ],
   "source": [
    "import pandas as pd\n",
    "import os\n",
    "\n",
    "all_data = []\n",
    "\n",
    "\n",
    "directory = \"real_missions\"\n",
    "\n",
    "\n",
    "for filename in os.listdir(directory):\n",
    "    if filename.endswith(\".csv\"):\n",
    "        filepath = os.path.join(directory, filename)\n",
    "        data = pd.read_csv(filepath)\n",
    "        all_data.append(data)\n",
    "\n",
    "\n",
    "combined_data = pd.concat(all_data, ignore_index=True)\n",
    "\n",
    "print(combined_data.head())\n"
   ]
  }
 ],
 "metadata": {
  "kernelspec": {
   "display_name": "base",
   "language": "python",
   "name": "python3"
  },
  "language_info": {
   "codemirror_mode": {
    "name": "ipython",
    "version": 3
   },
   "file_extension": ".py",
   "mimetype": "text/x-python",
   "name": "python",
   "nbconvert_exporter": "python",
   "pygments_lexer": "ipython3",
   "version": "3.12.3"
  }
 },
 "nbformat": 4,
 "nbformat_minor": 2
}
